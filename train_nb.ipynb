{
  "nbformat": 4,
  "nbformat_minor": 0,
  "metadata": {
    "colab": {
      "name": "EE_thom.ipynb",
      "provenance": [],
      "private_outputs": true,
      "collapsed_sections": []
    },
    "kernelspec": {
      "name": "python3",
      "display_name": "Python 3"
    },
    "accelerator": "GPU"
  },
  "cells": [
    {
      "cell_type": "code",
      "metadata": {
        "id": "81qVPggxUS-M",
        "colab_type": "code",
        "colab": {}
      },
      "source": [
        "!pip install transformers torch pandas sklearn seqeval"
      ],
      "execution_count": null,
      "outputs": []
    },
    {
      "cell_type": "code",
      "execution_count": 3,
      "metadata": {
        "colab": {},
        "colab_type": "code",
        "id": "LRRBVj2raUrL",
        "tags": []
      },
      "outputs": [],
      "source": [
        "from prep_data import create_dataset\n",
        "from train import main"
      ]
    },
    {
      "cell_type": "code",
      "execution_count": null,
      "metadata": {},
      "outputs": [],
      "source": [
        "FILE_PATH = 'test_data/wnut17train.conll'\n",
        "trainer = main(file_path=FILE_PATH)"
      ]
    },
    {
      "cell_type": "code",
      "metadata": {
        "id": "bd1apIWnacTX",
        "colab_type": "code",
        "colab": {}
      },
      "source": [
        "trainer.save_model(\"model/\")"
      ],
      "execution_count": 2,
      "outputs": []
    },
    {
      "cell_type": "code",
      "metadata": {
        "id": "GslbEQ6Xd2rA",
        "colab_type": "code",
        "colab": {}
      },
      "source": [
        "trainer.evaluate()"
      ],
      "execution_count": null,
      "outputs": []
    },
    {
      "cell_type": "code",
      "metadata": {
        "id": "JHs4I8PueG9X",
        "colab_type": "code",
        "colab": {}
      },
      "source": [
        "from torch import nn\n",
        "import numpy as np\n",
        "output, label_ids, metrics = trainer.predict(val_dataset)\n",
        "preds = np.argmax(output, axis=2)\n",
        "batch_size, seq_len = preds.shape"
      ],
      "execution_count": null,
      "outputs": []
    },
    {
      "cell_type": "code",
      "metadata": {
        "id": "kiNlGh1hnmMF",
        "colab_type": "code",
        "colab": {}
      },
      "source": [
        "preds_list = [[] for _ in range(batch_size)]\n",
        "label_list = [[] for _ in range(batch_size)]\n",
        "for i in range(batch_size):\n",
        "  for j in range(seq_len):\n",
        "    # ignore pad_tokens\n",
        "    if label_ids[i, j] != nn.CrossEntropyLoss().ignore_index:\n",
        "      preds_list[i].append(id2tag[preds[i][j]])\n",
        "      label_list[i].append(id2tag[label_ids[i][j]])"
      ],
      "execution_count": null,
      "outputs": []
    },
    {
      "cell_type": "code",
      "metadata": {
        "id": "9V69e9MJr-IF",
        "colab_type": "code",
        "colab": {}
      },
      "source": [
        "preds_list = [[] for _ in range(batch_size)]\n",
        "label_list = [[] for _ in range(batch_size)]\n",
        "for i in range(batch_size):\n",
        "  for j in range(seq_len):\n",
        "    # ignore pad_tokens\n",
        "    if label_ids[i, j] != nn.CrossEntropyLoss().ignore_index:\n",
        "      preds_list[i].append(id2tag[preds[i][j]])\n",
        "      label_list[i].append(id2tag[label_ids[i][j]])"
      ],
      "execution_count": null,
      "outputs": []
    },
    {
      "cell_type": "markdown",
      "metadata": {
        "id": "8QABSat6sP2I",
        "colab_type": "text"
      },
      "source": [
        ""
      ]
    },
    {
      "cell_type": "code",
      "metadata": {
        "id": "1FvXYL72mqEJ",
        "colab_type": "code",
        "colab": {}
      },
      "source": [
        "from seqeval.metrics import f1_score, classification_report\n",
        "print(\"F1-score: {:.1%}\".format(f1_score(label_list, preds_list)))\n",
        "print(classification_report(label_list, preds_list))"
      ],
      "execution_count": null,
      "outputs": []
    },
    {
      "cell_type": "code",
      "metadata": {
        "id": "9R_v_2aKpEdV",
        "colab_type": "code",
        "colab": {}
      },
      "source": [
        "id2tag"
      ],
      "execution_count": null,
      "outputs": []
    },
    {
      "cell_type": "code",
      "metadata": {
        "id": "1dAsDOI_sSi1",
        "colab_type": "code",
        "colab": {}
      },
      "source": [
        ""
      ],
      "execution_count": null,
      "outputs": []
    }
  ]
}